{
 "cells": [
  {
   "cell_type": "code",
   "execution_count": 89,
   "metadata": {},
   "outputs": [],
   "source": [
    "# Step 1: Import Libraries\n",
    "import pandas as pd\n",
    "import numpy as np\n",
    "from sklearn.model_selection import train_test_split\n",
    "from sklearn.feature_extraction.text import TfidfVectorizer\n",
    "from sklearn.svm import SVC\n",
    "from sklearn.linear_model import LogisticRegression\n",
    "from sklearn.tree import DecisionTreeClassifier\n",
    "from sklearn.neighbors import KNeighborsClassifier\n",
    "from sklearn.metrics import accuracy_score, confusion_matrix, classification_report\n",
    "import matplotlib.pyplot as plt\n",
    "import seaborn as sns"
   ]
  },
  {
   "cell_type": "code",
   "execution_count": 90,
   "metadata": {},
   "outputs": [],
   "source": [
    "# Step 2: Load and Preprocess Data\n",
    "df = pd.read_csv('mail_data.csv')"
   ]
  },
  {
   "cell_type": "code",
   "execution_count": 91,
   "metadata": {},
   "outputs": [
    {
     "data": {
      "text/html": [
       "<div>\n",
       "<style scoped>\n",
       "    .dataframe tbody tr th:only-of-type {\n",
       "        vertical-align: middle;\n",
       "    }\n",
       "\n",
       "    .dataframe tbody tr th {\n",
       "        vertical-align: top;\n",
       "    }\n",
       "\n",
       "    .dataframe thead th {\n",
       "        text-align: right;\n",
       "    }\n",
       "</style>\n",
       "<table border=\"1\" class=\"dataframe\">\n",
       "  <thead>\n",
       "    <tr style=\"text-align: right;\">\n",
       "      <th></th>\n",
       "      <th>Category</th>\n",
       "      <th>Message</th>\n",
       "    </tr>\n",
       "  </thead>\n",
       "  <tbody>\n",
       "    <tr>\n",
       "      <th>0</th>\n",
       "      <td>ham</td>\n",
       "      <td>Go until jurong point, crazy.. Available only ...</td>\n",
       "    </tr>\n",
       "    <tr>\n",
       "      <th>1</th>\n",
       "      <td>ham</td>\n",
       "      <td>Ok lar... Joking wif u oni...</td>\n",
       "    </tr>\n",
       "    <tr>\n",
       "      <th>2</th>\n",
       "      <td>spam</td>\n",
       "      <td>Free entry in 2 a wkly comp to win FA Cup fina...</td>\n",
       "    </tr>\n",
       "    <tr>\n",
       "      <th>3</th>\n",
       "      <td>ham</td>\n",
       "      <td>U dun say so early hor... U c already then say...</td>\n",
       "    </tr>\n",
       "    <tr>\n",
       "      <th>4</th>\n",
       "      <td>ham</td>\n",
       "      <td>Nah I don't think he goes to usf, he lives aro...</td>\n",
       "    </tr>\n",
       "  </tbody>\n",
       "</table>\n",
       "</div>"
      ],
      "text/plain": [
       "  Category                                            Message\n",
       "0      ham  Go until jurong point, crazy.. Available only ...\n",
       "1      ham                      Ok lar... Joking wif u oni...\n",
       "2     spam  Free entry in 2 a wkly comp to win FA Cup fina...\n",
       "3      ham  U dun say so early hor... U c already then say...\n",
       "4      ham  Nah I don't think he goes to usf, he lives aro..."
      ]
     },
     "execution_count": 91,
     "metadata": {},
     "output_type": "execute_result"
    }
   ],
   "source": [
    "df.head()"
   ]
  },
  {
   "cell_type": "code",
   "execution_count": 92,
   "metadata": {},
   "outputs": [
    {
     "name": "stdout",
     "output_type": "stream",
     "text": [
      "<class 'pandas.core.frame.DataFrame'>\n",
      "RangeIndex: 5572 entries, 0 to 5571\n",
      "Data columns (total 2 columns):\n",
      " #   Column    Non-Null Count  Dtype \n",
      "---  ------    --------------  ----- \n",
      " 0   Category  5572 non-null   object\n",
      " 1   Message   5572 non-null   object\n",
      "dtypes: object(2)\n",
      "memory usage: 87.2+ KB\n"
     ]
    }
   ],
   "source": [
    "df.info()"
   ]
  },
  {
   "cell_type": "code",
   "execution_count": 93,
   "metadata": {},
   "outputs": [
    {
     "data": {
      "text/plain": [
       "Category    0\n",
       "Message     0\n",
       "dtype: int64"
      ]
     },
     "execution_count": 93,
     "metadata": {},
     "output_type": "execute_result"
    }
   ],
   "source": [
    "df.isnull().sum()"
   ]
  },
  {
   "cell_type": "code",
   "execution_count": 94,
   "metadata": {},
   "outputs": [
    {
     "data": {
      "text/plain": [
       "(5572, 2)"
      ]
     },
     "execution_count": 94,
     "metadata": {},
     "output_type": "execute_result"
    }
   ],
   "source": [
    "df.shape"
   ]
  },
  {
   "cell_type": "code",
   "execution_count": 95,
   "metadata": {},
   "outputs": [
    {
     "data": {
      "text/plain": [
       "415"
      ]
     },
     "execution_count": 95,
     "metadata": {},
     "output_type": "execute_result"
    }
   ],
   "source": [
    "df.duplicated().sum()"
   ]
  },
  {
   "cell_type": "code",
   "execution_count": 96,
   "metadata": {},
   "outputs": [],
   "source": [
    "df.drop_duplicates(inplace=True)"
   ]
  },
  {
   "cell_type": "code",
   "execution_count": 97,
   "metadata": {},
   "outputs": [
    {
     "data": {
      "text/plain": [
       "0"
      ]
     },
     "execution_count": 97,
     "metadata": {},
     "output_type": "execute_result"
    }
   ],
   "source": [
    "\n",
    "df.duplicated().sum()"
   ]
  },
  {
   "cell_type": "code",
   "execution_count": 98,
   "metadata": {},
   "outputs": [
    {
     "data": {
      "text/plain": [
       "(5157, 2)"
      ]
     },
     "execution_count": 98,
     "metadata": {},
     "output_type": "execute_result"
    }
   ],
   "source": [
    "df.shape"
   ]
  },
  {
   "cell_type": "code",
   "execution_count": 99,
   "metadata": {},
   "outputs": [],
   "source": [
    "df.loc[df['Category'] == 'spam', 'Category',] = 1\n",
    "df.loc[df['Category'] == 'ham', 'Category',] = 0"
   ]
  },
  {
   "cell_type": "code",
   "execution_count": 100,
   "metadata": {},
   "outputs": [],
   "source": [
    "X = df['Message']\n",
    "Y = df['Category']"
   ]
  },
  {
   "cell_type": "code",
   "execution_count": 101,
   "metadata": {},
   "outputs": [
    {
     "name": "stdout",
     "output_type": "stream",
     "text": [
      "0       Go until jurong point, crazy.. Available only ...\n",
      "1                           Ok lar... Joking wif u oni...\n",
      "2       Free entry in 2 a wkly comp to win FA Cup fina...\n",
      "3       U dun say so early hor... U c already then say...\n",
      "4       Nah I don't think he goes to usf, he lives aro...\n",
      "                              ...                        \n",
      "5567    This is the 2nd time we have tried 2 contact u...\n",
      "5568                 Will ü b going to esplanade fr home?\n",
      "5569    Pity, * was in mood for that. So...any other s...\n",
      "5570    The guy did some bitching but I acted like i'd...\n",
      "5571                           Rofl. Its true to its name\n",
      "Name: Message, Length: 5157, dtype: object\n"
     ]
    }
   ],
   "source": [
    "print(X)"
   ]
  },
  {
   "cell_type": "code",
   "execution_count": 102,
   "metadata": {},
   "outputs": [
    {
     "name": "stdout",
     "output_type": "stream",
     "text": [
      "0       0\n",
      "1       0\n",
      "2       1\n",
      "3       0\n",
      "4       0\n",
      "       ..\n",
      "5567    1\n",
      "5568    0\n",
      "5569    0\n",
      "5570    0\n",
      "5571    0\n",
      "Name: Category, Length: 5157, dtype: object\n"
     ]
    }
   ],
   "source": [
    "print(Y)"
   ]
  },
  {
   "cell_type": "code",
   "execution_count": 103,
   "metadata": {},
   "outputs": [],
   "source": [
    "# Step 3: Split Data into Train and Test sets\n",
    "X_train, X_test, Y_train, Y_test = train_test_split(X, Y, test_size=0.2, random_state=42)"
   ]
  },
  {
   "cell_type": "code",
   "execution_count": 104,
   "metadata": {},
   "outputs": [
    {
     "name": "stdout",
     "output_type": "stream",
     "text": [
      "(5157,)\n",
      "(4125,)\n",
      "(1032,)\n"
     ]
    }
   ],
   "source": [
    "print(X.shape)\n",
    "print(X_train.shape)\n",
    "print(X_test.shape)"
   ]
  },
  {
   "cell_type": "code",
   "execution_count": 105,
   "metadata": {},
   "outputs": [],
   "source": [
    "# Convert text data into numerical data\n",
    "vectorizer = TfidfVectorizer(min_df = 1, stop_words='english', lowercase=True)\n",
    "\n",
    "X_train_feature = vectorizer.fit_transform(X_train)\n",
    "X_test_feature = vectorizer.transform(X_test)\n",
    "Y_train = Y_train.astype('int')\n",
    "Y_test = Y_test.astype('int')"
   ]
  },
  {
   "cell_type": "code",
   "execution_count": 106,
   "metadata": {},
   "outputs": [
    {
     "name": "stdout",
     "output_type": "stream",
     "text": [
      "2598    Got fujitsu, ibm, hp, toshiba... Got a lot of ...\n",
      "5418    So how are you really. What are you up to. How...\n",
      "99                        I see a cup of coffee animation\n",
      "2321        This pain couldn't have come at a worse time.\n",
      "2388                               Also where's the piece\n",
      "                              ...                        \n",
      "4750    Thanx u darlin!im cool thanx. A few bday drink...\n",
      "474     Want 2 get laid tonight? Want real Dogging loc...\n",
      "3273    MOON has come to color your dreams, STARS to m...\n",
      "4022                We have to pick rayan macleran there.\n",
      "882     see, i knew giving you a break a few times wou...\n",
      "Name: Message, Length: 4125, dtype: object\n"
     ]
    }
   ],
   "source": [
    "print(X_train)"
   ]
  },
  {
   "cell_type": "code",
   "execution_count": 107,
   "metadata": {},
   "outputs": [
    {
     "name": "stdout",
     "output_type": "stream",
     "text": [
      "  (0, 3056)\t0.3768666543151668\n",
      "  (0, 2902)\t0.37814533528523747\n",
      "  (0, 3412)\t0.3967833520562993\n",
      "  (0, 3364)\t0.3967833520562993\n",
      "  (0, 6635)\t0.3967833520562993\n",
      "  (0, 4017)\t0.27386074693036566\n",
      "  (0, 4337)\t0.33305955181924346\n",
      "  (0, 5618)\t0.23819775627179068\n",
      "  (1, 5313)\t0.55295106396087\n",
      "  (1, 4170)\t0.8332137306025039\n",
      "  (2, 2034)\t0.5724594631408114\n",
      "  (2, 1800)\t0.5474949662354052\n",
      "  (2, 920)\t0.6103600781566784\n",
      "  (3, 4782)\t0.4512908807267238\n",
      "  (3, 1950)\t0.5492646153275634\n",
      "  (3, 1827)\t0.3080655289837874\n",
      "  (3, 7209)\t0.5492646153275634\n",
      "  (3, 6545)\t0.31312766649238255\n",
      "  (4, 4934)\t1.0\n",
      "  (5, 3461)\t0.745570338992923\n",
      "  (5, 2264)\t0.6664269424430392\n",
      "  (6, 3091)\t0.16573762354288965\n",
      "  (6, 4519)\t0.16305124020026582\n",
      "  (6, 4644)\t0.20594833628441883\n",
      "  (6, 2326)\t0.47029719292723343\n",
      "  :\t:\n",
      "  (4122, 4431)\t0.3593480537173941\n",
      "  (4123, 4926)\t0.4041188590986093\n",
      "  (4123, 5287)\t0.646795156027331\n",
      "  (4123, 4098)\t0.646795156027331\n",
      "  (4124, 1827)\t0.11143718565621685\n",
      "  (4124, 4291)\t0.13752130457300116\n",
      "  (4124, 4257)\t0.1910991819189262\n",
      "  (4124, 4383)\t0.17451998443339123\n",
      "  (4124, 4492)\t0.3577198203989804\n",
      "  (4124, 3314)\t0.11818058352376622\n",
      "  (4124, 3037)\t0.30000799962188734\n",
      "  (4124, 6546)\t0.16441878062334742\n",
      "  (4124, 6542)\t0.3312914393938708\n",
      "  (4124, 1421)\t0.17451998443339123\n",
      "  (4124, 6655)\t0.1910991819189262\n",
      "  (4124, 3763)\t0.18799272104009046\n",
      "  (4124, 3854)\t0.1986866336995122\n",
      "  (4124, 3007)\t0.19462099679636483\n",
      "  (4124, 2407)\t0.21696799813951986\n",
      "  (4124, 7011)\t0.21696799813951986\n",
      "  (4124, 7214)\t0.2276619107989416\n",
      "  (4124, 2036)\t0.2276619107989416\n",
      "  (4124, 2990)\t0.2276619107989416\n",
      "  (4124, 2981)\t0.2276619107989416\n",
      "  (4124, 6201)\t0.2276619107989416\n"
     ]
    }
   ],
   "source": [
    "print(X_train_feature)"
   ]
  },
  {
   "cell_type": "code",
   "execution_count": 108,
   "metadata": {},
   "outputs": [],
   "source": [
    "# Step 4: Train and Evaluate Model\n",
    "classifiers = {\n",
    "    'SVM': SVC(),\n",
    "    'Logistic Regression': LogisticRegression(),\n",
    "    'Decision Tree': DecisionTreeClassifier(),\n",
    "    'KNN': KNeighborsClassifier()\n",
    "}"
   ]
  },
  {
   "cell_type": "code",
   "execution_count": 109,
   "metadata": {},
   "outputs": [
    {
     "name": "stdout",
     "output_type": "stream",
     "text": [
      "Classifier: SVM\n",
      "Accuracy: 0.9796511627906976\n",
      "Confusion Matrix:\n",
      " [[893   3]\n",
      " [ 18 118]]\n",
      "Classification Report:\n",
      "               precision    recall  f1-score   support\n",
      "\n",
      "           0       0.98      1.00      0.99       896\n",
      "           1       0.98      0.87      0.92       136\n",
      "\n",
      "    accuracy                           0.98      1032\n",
      "   macro avg       0.98      0.93      0.95      1032\n",
      "weighted avg       0.98      0.98      0.98      1032\n",
      "\n",
      "--------------------------------------------------\n",
      "Classifier: Logistic Regression\n",
      "Accuracy: 0.9525193798449613\n",
      "Confusion Matrix:\n",
      " [[892   4]\n",
      " [ 45  91]]\n",
      "Classification Report:\n",
      "               precision    recall  f1-score   support\n",
      "\n",
      "           0       0.95      1.00      0.97       896\n",
      "           1       0.96      0.67      0.79       136\n",
      "\n",
      "    accuracy                           0.95      1032\n",
      "   macro avg       0.95      0.83      0.88      1032\n",
      "weighted avg       0.95      0.95      0.95      1032\n",
      "\n",
      "--------------------------------------------------\n",
      "Classifier: Decision Tree\n",
      "Accuracy: 0.9583333333333334\n",
      "Confusion Matrix:\n",
      " [[877  19]\n",
      " [ 24 112]]\n",
      "Classification Report:\n",
      "               precision    recall  f1-score   support\n",
      "\n",
      "           0       0.97      0.98      0.98       896\n",
      "           1       0.85      0.82      0.84       136\n",
      "\n",
      "    accuracy                           0.96      1032\n",
      "   macro avg       0.91      0.90      0.91      1032\n",
      "weighted avg       0.96      0.96      0.96      1032\n",
      "\n",
      "--------------------------------------------------\n",
      "Classifier: KNN\n",
      "Accuracy: 0.9060077519379846\n",
      "Confusion Matrix:\n",
      " [[896   0]\n",
      " [ 97  39]]\n",
      "Classification Report:\n",
      "               precision    recall  f1-score   support\n",
      "\n",
      "           0       0.90      1.00      0.95       896\n",
      "           1       1.00      0.29      0.45       136\n",
      "\n",
      "    accuracy                           0.91      1032\n",
      "   macro avg       0.95      0.64      0.70      1032\n",
      "weighted avg       0.92      0.91      0.88      1032\n",
      "\n",
      "--------------------------------------------------\n"
     ]
    }
   ],
   "source": [
    "for name, clf in classifiers.items():\n",
    "    clf.fit(X_train_feature, Y_train)\n",
    "    y_pred = clf.predict(X_test_feature)\n",
    "    print(f'Classifier: {name}')\n",
    "    print('Accuracy:', accuracy_score(Y_test, y_pred))\n",
    "    print('Confusion Matrix:\\n', confusion_matrix(Y_test, y_pred))\n",
    "    print('Classification Report:\\n', classification_report(Y_test, y_pred))\n",
    "    print('-' * 50) #This line prints the separator\n"
   ]
  },
  {
   "cell_type": "code",
   "execution_count": 110,
   "metadata": {},
   "outputs": [],
   "source": [
    "model = SVC(kernel='linear', class_weight='balanced')\n",
    "model.fit(X_train_feature, Y_train)\n",
    "y_pred = model.predict(X_test_feature)"
   ]
  },
  {
   "cell_type": "code",
   "execution_count": 111,
   "metadata": {},
   "outputs": [],
   "source": [
    "accuracy=accuracy_score(Y_test,y_pred)"
   ]
  },
  {
   "cell_type": "code",
   "execution_count": 112,
   "metadata": {},
   "outputs": [
    {
     "name": "stdout",
     "output_type": "stream",
     "text": [
      "accuracy= 0.9806201550387597\n"
     ]
    }
   ],
   "source": [
    "print(\"accuracy=\",accuracy)"
   ]
  },
  {
   "cell_type": "code",
   "execution_count": 113,
   "metadata": {},
   "outputs": [
    {
     "data": {
      "image/png": "[encoded data removed]",
      "text/plain": [
       "<Figure size 640x480 with 2 Axes>"
      ]
     },
     "metadata": {},
     "output_type": "display_data"
    }
   ],
   "source": [
    "# Step 6: Visualize Results\n",
    "sns.heatmap(confusion_matrix(Y_test, y_pred), annot=True, fmt='d')\n",
    "plt.xlabel('Predicted')\n",
    "plt.ylabel('Actual')\n",
    "plt.show()"
   ]
  },
  {
   "cell_type": "code",
   "execution_count": 114,
   "metadata": {},
   "outputs": [
    {
     "name": "stdout",
     "output_type": "stream",
     "text": [
      "Spam\n"
     ]
    }
   ],
   "source": [
    "# Step 7: Make Predictions on New Data\n",
    "new_email = [\"You won a free lottery ticket!\"]\n",
    "new_email_transformed = vectorizer.transform(new_email)\n",
    "prediction = model.predict(new_email_transformed)\n",
    "print(\"Spam\" if prediction[0] == 1 else \"Not Spam\")"
   ]
  },
  {
   "cell_type": "code",
   "execution_count": 115,
   "metadata": {},
   "outputs": [
    {
     "name": "stdout",
     "output_type": "stream",
     "text": [
      "Requirement already satisfied: joblib in c:\\users\\user\\appdata\\local\\programs\\python\\python312\\lib\\site-packages (1.4.2)Note: you may need to restart the kernel to use updated packages.\n"
     ]
    },
    {
     "name": "stderr",
     "output_type": "stream",
     "text": [
      "\n",
      "[notice] A new release of pip is available: 24.0 -> 24.2\n",
      "[notice] To update, run: python.exe -m pip install --upgrade pip\n"
     ]
    },
    {
     "name": "stdout",
     "output_type": "stream",
     "text": [
      "\n"
     ]
    }
   ],
   "source": [
    "pip install joblib\n"
   ]
  },
  {
   "cell_type": "code",
   "execution_count": 116,
   "metadata": {},
   "outputs": [],
   "source": [
    "import joblib"
   ]
  },
  {
   "cell_type": "code",
   "execution_count": 117,
   "metadata": {},
   "outputs": [
    {
     "data": {
      "text/plain": [
       "['tfidf_vectorizer.pkl']"
      ]
     },
     "execution_count": 117,
     "metadata": {},
     "output_type": "execute_result"
    }
   ],
   "source": [
    "\n",
    "# Save the trained model to a joblib file\n",
    "joblib.dump(model, 'spam_classifier_model.pkl')\n",
    "# Save the TF-IDF vectorizer to a joblib file\n",
    "joblib.dump(vectorizer, 'tfidf_vectorizer.pkl')\n"
   ]
  },
  {
   "cell_type": "code",
   "execution_count": null,
   "metadata": {},
   "outputs": [],
   "source": []
  }
 ],
 "metadata": {
  "kernelspec": {
   "display_name": "Python 3",
   "language": "python",
   "name": "python3"
  },
  "language_info": {
   "codemirror_mode": {
    "name": "ipython",
    "version": 3
   },
   "file_extension": ".py",
   "mimetype": "text/x-python",
   "name": "python",
   "nbconvert_exporter": "python",
   "pygments_lexer": "ipython3",
   "version": "3.12.4"
  }
 },
 "nbformat": 4,
 "nbformat_minor": 2
}
